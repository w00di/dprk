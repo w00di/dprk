{
 "cells": [
  {
   "cell_type": "code",
   "execution_count": 47,
   "id": "27bbfa45-7c89-4150-beac-eb1adf94b31c",
   "metadata": {},
   "outputs": [],
   "source": [
    "source = r'https://www.rapid7.com/blog/post/2024/03/20/the-updated-apt-playbook-tales-from-the-kimsuky-threat-actor-group/'\n",
    "\n",
    "ioc = r'REG ADD HKCU\\SOFTWARE\\Microsoft\\Windows\\CurrentVersion\\Run /v Document /t REG_SZ /d \"%USERPROFILE%\\Links\\MXFhejJ3c3gzZWRjA.vbs\" /f'\n",
    "\n",
    "notes = r'command ensures that the decoded VBScript runs every time the user logs in'\n",
    "\n",
    "threat = 1\n",
    "\n",
    "ioc_type = 1"
   ]
  },
  {
   "cell_type": "code",
   "execution_count": 48,
   "id": "2d58b44f-7e4a-4d94-a5f8-a9ee2cb16e10",
   "metadata": {
    "editable": true,
    "slideshow": {
     "slide_type": ""
    },
    "tags": []
   },
   "outputs": [
    {
     "name": "stdout",
     "output_type": "stream",
     "text": [
      "Rows: 3\n",
      "\n"
     ]
    },
    {
     "data": {
      "text/html": [
       "<div>\n",
       "<style scoped>\n",
       "    .dataframe tbody tr th:only-of-type {\n",
       "        vertical-align: middle;\n",
       "    }\n",
       "\n",
       "    .dataframe tbody tr th {\n",
       "        vertical-align: top;\n",
       "    }\n",
       "\n",
       "    .dataframe thead th {\n",
       "        text-align: right;\n",
       "    }\n",
       "</style>\n",
       "<table border=\"1\" class=\"dataframe\">\n",
       "  <thead>\n",
       "    <tr style=\"text-align: right;\">\n",
       "      <th></th>\n",
       "      <th>ioc</th>\n",
       "      <th>threat</th>\n",
       "      <th>ioc_category</th>\n",
       "      <th>notes</th>\n",
       "      <th>source</th>\n",
       "    </tr>\n",
       "  </thead>\n",
       "  <tbody>\n",
       "    <tr>\n",
       "      <th>2</th>\n",
       "      <td>REG ADD HKCU SOFTWARE Microsoft Windows CurrentVersion Run /v Document /t REG_SZ /d %USERPROFILE% Links MXFhejJ3c3gzZWRjA vbs /f</td>\n",
       "      <td>kimsuky</td>\n",
       "      <td>cmd</td>\n",
       "      <td>command ensures that the decoded VBScript runs every time the user logs in</td>\n",
       "      <td>https://www.rapid7.com/blog/post/2024/03/20/the-updated-apt-playbook-tales-from-the-kimsuky-threat-actor-group/</td>\n",
       "    </tr>\n",
       "  </tbody>\n",
       "</table>\n",
       "</div>"
      ],
      "text/plain": [
       "                                                                                                                                ioc   threat ioc_category                                                                       notes                                                                                                           source\n",
       "2  REG ADD HKCU SOFTWARE Microsoft Windows CurrentVersion Run /v Document /t REG_SZ /d %USERPROFILE% Links MXFhejJ3c3gzZWRjA vbs /f  kimsuky          cmd  command ensures that the decoded VBScript runs every time the user logs in  https://www.rapid7.com/blog/post/2024/03/20/the-updated-apt-playbook-tales-from-the-kimsuky-threat-actor-group/"
      ]
     },
     "execution_count": 48,
     "metadata": {},
     "output_type": "execute_result"
    }
   ],
   "source": [
    "from ingest import intel\n",
    "import pandas as pd\n",
    "pd.set_option('display.max_colwidth', None)\n",
    "\n",
    "intel(source, threat, ioc, ioc_type, notes)\n",
    "\n",
    "df = pd.read_csv('intel.csv')\n",
    "\n",
    "print(f'Rows: {len(df.index)}\\n')\n",
    "df.tail(1)"
   ]
  },
  {
   "cell_type": "code",
   "execution_count": null,
   "id": "6e9bcc28-9cba-48b5-b5f8-4a018708ab96",
   "metadata": {},
   "outputs": [],
   "source": []
  }
 ],
 "metadata": {
  "kernelspec": {
   "display_name": "Python 3 (ipykernel)",
   "language": "python",
   "name": "python3"
  },
  "language_info": {
   "codemirror_mode": {
    "name": "ipython",
    "version": 3
   },
   "file_extension": ".py",
   "mimetype": "text/x-python",
   "name": "python",
   "nbconvert_exporter": "python",
   "pygments_lexer": "ipython3",
   "version": "3.12.1"
  }
 },
 "nbformat": 4,
 "nbformat_minor": 5
}
